{
 "cells": [
  {
   "cell_type": "code",
   "execution_count": 2,
   "id": "02174cbc-4a62-4321-a58e-132fb7d2e1e8",
   "metadata": {},
   "outputs": [],
   "source": [
    "import pandas as pd\n",
    "import matplotlib.pyplot as plt\n",
    "import numpy as np"
   ]
  },
  {
   "cell_type": "code",
   "execution_count": 3,
   "id": "a1d06878-d02a-439f-a694-42dfd20ab1aa",
   "metadata": {},
   "outputs": [
    {
     "data": {
      "text/html": [
       "<div>\n",
       "<style scoped>\n",
       "    .dataframe tbody tr th:only-of-type {\n",
       "        vertical-align: middle;\n",
       "    }\n",
       "\n",
       "    .dataframe tbody tr th {\n",
       "        vertical-align: top;\n",
       "    }\n",
       "\n",
       "    .dataframe thead th {\n",
       "        text-align: right;\n",
       "    }\n",
       "</style>\n",
       "<table border=\"1\" class=\"dataframe\">\n",
       "  <thead>\n",
       "    <tr style=\"text-align: right;\">\n",
       "      <th></th>\n",
       "      <th>Distance</th>\n",
       "      <th>Pressure</th>\n",
       "      <th>HRV</th>\n",
       "      <th>Sugar level</th>\n",
       "      <th>SpO2</th>\n",
       "      <th>Accelerometer</th>\n",
       "      <th>Decision</th>\n",
       "    </tr>\n",
       "  </thead>\n",
       "  <tbody>\n",
       "    <tr>\n",
       "      <th>0</th>\n",
       "      <td>25.540</td>\n",
       "      <td>1.0</td>\n",
       "      <td>101.396</td>\n",
       "      <td>61.080</td>\n",
       "      <td>87.770</td>\n",
       "      <td>1.0</td>\n",
       "      <td>1</td>\n",
       "    </tr>\n",
       "    <tr>\n",
       "      <th>1</th>\n",
       "      <td>2.595</td>\n",
       "      <td>2.0</td>\n",
       "      <td>110.190</td>\n",
       "      <td>20.207</td>\n",
       "      <td>65.190</td>\n",
       "      <td>1.0</td>\n",
       "      <td>2</td>\n",
       "    </tr>\n",
       "    <tr>\n",
       "      <th>2</th>\n",
       "      <td>68.067</td>\n",
       "      <td>0.0</td>\n",
       "      <td>87.412</td>\n",
       "      <td>79.345</td>\n",
       "      <td>99.345</td>\n",
       "      <td>0.0</td>\n",
       "      <td>0</td>\n",
       "    </tr>\n",
       "    <tr>\n",
       "      <th>3</th>\n",
       "      <td>13.090</td>\n",
       "      <td>1.0</td>\n",
       "      <td>92.266</td>\n",
       "      <td>36.180</td>\n",
       "      <td>81.545</td>\n",
       "      <td>1.0</td>\n",
       "      <td>1</td>\n",
       "    </tr>\n",
       "    <tr>\n",
       "      <th>4</th>\n",
       "      <td>69.430</td>\n",
       "      <td>0.0</td>\n",
       "      <td>89.480</td>\n",
       "      <td>80.000</td>\n",
       "      <td>99.990</td>\n",
       "      <td>0.0</td>\n",
       "      <td>0</td>\n",
       "    </tr>\n",
       "    <tr>\n",
       "      <th>...</th>\n",
       "      <td>...</td>\n",
       "      <td>...</td>\n",
       "      <td>...</td>\n",
       "      <td>...</td>\n",
       "      <td>...</td>\n",
       "      <td>...</td>\n",
       "      <td>...</td>\n",
       "    </tr>\n",
       "    <tr>\n",
       "      <th>2034</th>\n",
       "      <td>5.655</td>\n",
       "      <td>2.0</td>\n",
       "      <td>116.310</td>\n",
       "      <td>162.242</td>\n",
       "      <td>71.310</td>\n",
       "      <td>1.0</td>\n",
       "      <td>2</td>\n",
       "    </tr>\n",
       "    <tr>\n",
       "      <th>2035</th>\n",
       "      <td>9.660</td>\n",
       "      <td>2.0</td>\n",
       "      <td>124.320</td>\n",
       "      <td>177.995</td>\n",
       "      <td>79.320</td>\n",
       "      <td>1.0</td>\n",
       "      <td>2</td>\n",
       "    </tr>\n",
       "    <tr>\n",
       "      <th>2036</th>\n",
       "      <td>15.220</td>\n",
       "      <td>1.0</td>\n",
       "      <td>93.828</td>\n",
       "      <td>40.440</td>\n",
       "      <td>82.610</td>\n",
       "      <td>1.0</td>\n",
       "      <td>1</td>\n",
       "    </tr>\n",
       "    <tr>\n",
       "      <th>2037</th>\n",
       "      <td>9.120</td>\n",
       "      <td>2.0</td>\n",
       "      <td>123.240</td>\n",
       "      <td>175.871</td>\n",
       "      <td>78.240</td>\n",
       "      <td>1.0</td>\n",
       "      <td>2</td>\n",
       "    </tr>\n",
       "    <tr>\n",
       "      <th>2038</th>\n",
       "      <td>62.441</td>\n",
       "      <td>0.0</td>\n",
       "      <td>78.876</td>\n",
       "      <td>76.435</td>\n",
       "      <td>96.435</td>\n",
       "      <td>0.0</td>\n",
       "      <td>0</td>\n",
       "    </tr>\n",
       "  </tbody>\n",
       "</table>\n",
       "<p>2039 rows × 7 columns</p>\n",
       "</div>"
      ],
      "text/plain": [
       "      Distance  Pressure      HRV  Sugar level    SpO2  Accelerometer  \\\n",
       "0       25.540       1.0  101.396       61.080  87.770            1.0   \n",
       "1        2.595       2.0  110.190       20.207  65.190            1.0   \n",
       "2       68.067       0.0   87.412       79.345  99.345            0.0   \n",
       "3       13.090       1.0   92.266       36.180  81.545            1.0   \n",
       "4       69.430       0.0   89.480       80.000  99.990            0.0   \n",
       "...        ...       ...      ...          ...     ...            ...   \n",
       "2034     5.655       2.0  116.310      162.242  71.310            1.0   \n",
       "2035     9.660       2.0  124.320      177.995  79.320            1.0   \n",
       "2036    15.220       1.0   93.828       40.440  82.610            1.0   \n",
       "2037     9.120       2.0  123.240      175.871  78.240            1.0   \n",
       "2038    62.441       0.0   78.876       76.435  96.435            0.0   \n",
       "\n",
       "      Decision  \n",
       "0            1  \n",
       "1            2  \n",
       "2            0  \n",
       "3            1  \n",
       "4            0  \n",
       "...        ...  \n",
       "2034         2  \n",
       "2035         2  \n",
       "2036         1  \n",
       "2037         2  \n",
       "2038         0  \n",
       "\n",
       "[2039 rows x 7 columns]"
      ]
     },
     "execution_count": 3,
     "metadata": {},
     "output_type": "execute_result"
    }
   ],
   "source": [
    "df = pd.read_csv(\"cStick.csv\")\n",
    "df"
   ]
  },
  {
   "cell_type": "code",
   "execution_count": 4,
   "id": "89b7ddef-01a3-4664-8e3b-fcb2cd797f57",
   "metadata": {},
   "outputs": [
    {
     "data": {
      "image/png": "[encoded data removed]",
      "text/plain": [
       "<Figure size 432x288 with 1 Axes>"
      ]
     },
     "metadata": {
      "needs_background": "light"
     },
     "output_type": "display_data"
    },
    {
     "name": "stdout",
     "output_type": "stream",
     "text": [
      "Green = no fall detected = 0\n",
      "Orange = person slipped/tripped/prediction of fall = 1\n",
      "Red = definite fall = 2\n"
     ]
    }
   ],
   "source": [
    "setColors = ['green', 'orange', 'red']\n",
    "colors = [setColors[x] for x in df['Decision'].to_numpy()]\n",
    "df['Decision'].to_numpy()\n",
    "plt.scatter(df['HRV'].to_numpy(), df['SpO2'].to_numpy(), c = colors)\n",
    "plt.title(\"SpO2 as a function of HRV colored by Decision\")\n",
    "plt.xlabel(\"HRV\")\n",
    "plt.ylabel(\"SpO2\")\n",
    "plt.show()\n",
    "print(\"Green = no fall detected = 0\\nOrange = person slipped/tripped/prediction of fall = 1\\nRed = definite fall = 2\") "
   ]
  },
  {
   "cell_type": "code",
   "execution_count": 5,
   "id": "0ea78d88-9dda-470a-b3fd-05e015361b9e",
   "metadata": {},
   "outputs": [
    {
     "data": {
      "image/png": "[encoded data removed]",
      "text/plain": [
       "<Figure size 432x288 with 1 Axes>"
      ]
     },
     "metadata": {
      "needs_background": "light"
     },
     "output_type": "display_data"
    },
    {
     "name": "stdout",
     "output_type": "stream",
     "text": [
      "Green = no fall detected = 0\n",
      "Orange = person slipped/tripped/prediction of fall = 1\n",
      "Red = definite fall = 2\n"
     ]
    }
   ],
   "source": [
    "setColors = ['green', 'orange', 'red']\n",
    "colors = [setColors[x] for x in df['Decision'].to_numpy()]\n",
    "df['Decision'].to_numpy()\n",
    "plt.scatter(df['HRV'].to_numpy(), df['Sugar level'].to_numpy(), c = colors)\n",
    "plt.title(\"Suger level as a function of HRV colored by Decision\")\n",
    "plt.xlabel(\"HRV\")\n",
    "plt.ylabel(\"Sugar level\")\n",
    "plt.show()\n",
    "print(\"Green = no fall detected = 0\\nOrange = person slipped/tripped/prediction of fall = 1\\nRed = definite fall = 2\") "
   ]
  },
  {
   "cell_type": "code",
   "execution_count": 6,
   "id": "1408a906-c2d2-4e45-8257-f928c9983414",
   "metadata": {},
   "outputs": [
    {
     "data": {
      "image/png": "[encoded data removed]",
      "text/plain": [
       "<Figure size 432x288 with 1 Axes>"
      ]
     },
     "metadata": {
      "needs_background": "light"
     },
     "output_type": "display_data"
    },
    {
     "name": "stdout",
     "output_type": "stream",
     "text": [
      "Green = no fall detected = 0\n",
      "Orange = person slipped/tripped/prediction of fall = 1\n",
      "Red = definite fall = 2\n"
     ]
    }
   ],
   "source": [
    "setColors = ['green', 'orange', 'red']\n",
    "colors = [setColors[x] for x in df['Decision'].to_numpy()]\n",
    "df['Decision'].to_numpy()\n",
    "plt.scatter(df['Sugar level'].to_numpy(), df['SpO2'].to_numpy(), c = colors)\n",
    "plt.title(\"SpO2 as a function of Sugar level colored by Decision\")\n",
    "plt.xlabel(\"Sugar level\")\n",
    "plt.ylabel(\"SpO2\")\n",
    "plt.show()\n",
    "print(\"Green = no fall detected = 0\\nOrange = person slipped/tripped/prediction of fall = 1\\nRed = definite fall = 2\") "
   ]
  },
  {
   "cell_type": "code",
   "execution_count": 10,
   "id": "e3fefba5-ffe1-4563-9e21-2317ebfce435",
   "metadata": {},
   "outputs": [
    {
     "data": {
      "image/png": "[encoded data removed]",
      "text/plain": [
       "<Figure size 432x288 with 1 Axes>"
      ]
     },
     "metadata": {
      "needs_background": "light"
     },
     "output_type": "display_data"
    },
    {
     "name": "stdout",
     "output_type": "stream",
     "text": [
      "Green = no fall detected = 0\n",
      "Orange = person slipped/tripped/prediction of fall = 1\n",
      "Red = definite fall = 2\n"
     ]
    }
   ],
   "source": [
    "setColors = ['green', 'orange', 'red']\n",
    "colors = [setColors[x] for x in df['Decision'].to_numpy()]\n",
    "df['Decision'].to_numpy()\n",
    "plt.scatter(df['HRV'].to_numpy(), df['Pressure'].to_numpy(), c = colors)\n",
    "plt.title(\"Pressure as a function of HRV colored by Decision\")\n",
    "plt.xlabel(\"HRV\")\n",
    "plt.ylabel(\"Pressure\")\n",
    "plt.show()\n",
    "print(\"Green = no fall detected = 0\\nOrange = person slipped/tripped/prediction of fall = 1\\nRed = definite fall = 2\") "
   ]
  },
  {
   "cell_type": "code",
   "execution_count": 16,
   "id": "4c2decbe-0a49-4b89-b43b-e9d146c8088a",
   "metadata": {},
   "outputs": [
    {
     "data": {
      "text/html": [
       "<div>\n",
       "<style scoped>\n",
       "    .dataframe tbody tr th:only-of-type {\n",
       "        vertical-align: middle;\n",
       "    }\n",
       "\n",
       "    .dataframe tbody tr th {\n",
       "        vertical-align: top;\n",
       "    }\n",
       "\n",
       "    .dataframe thead th {\n",
       "        text-align: right;\n",
       "    }\n",
       "</style>\n",
       "<table border=\"1\" class=\"dataframe\">\n",
       "  <thead>\n",
       "    <tr style=\"text-align: right;\">\n",
       "      <th></th>\n",
       "      <th>Distance</th>\n",
       "      <th>Pressure</th>\n",
       "      <th>HRV</th>\n",
       "      <th>Sugar level</th>\n",
       "      <th>SpO2</th>\n",
       "      <th>Accelerometer</th>\n",
       "      <th>Decision</th>\n",
       "    </tr>\n",
       "  </thead>\n",
       "  <tbody>\n",
       "    <tr>\n",
       "      <th>Distance</th>\n",
       "      <td>1.000000</td>\n",
       "      <td>-0.946120</td>\n",
       "      <td>-0.816665</td>\n",
       "      <td>0.018344</td>\n",
       "      <td>0.911929</td>\n",
       "      <td>-0.941711</td>\n",
       "      <td>-0.946120</td>\n",
       "    </tr>\n",
       "    <tr>\n",
       "      <th>Pressure</th>\n",
       "      <td>-0.946120</td>\n",
       "      <td>1.000000</td>\n",
       "      <td>0.925209</td>\n",
       "      <td>0.156680</td>\n",
       "      <td>-0.923111</td>\n",
       "      <td>0.866866</td>\n",
       "      <td>1.000000</td>\n",
       "    </tr>\n",
       "    <tr>\n",
       "      <th>HRV</th>\n",
       "      <td>-0.816665</td>\n",
       "      <td>0.925209</td>\n",
       "      <td>1.000000</td>\n",
       "      <td>0.309212</td>\n",
       "      <td>-0.724080</td>\n",
       "      <td>0.834400</td>\n",
       "      <td>0.925209</td>\n",
       "    </tr>\n",
       "    <tr>\n",
       "      <th>Sugar level</th>\n",
       "      <td>0.018344</td>\n",
       "      <td>0.156680</td>\n",
       "      <td>0.309212</td>\n",
       "      <td>1.000000</td>\n",
       "      <td>0.091933</td>\n",
       "      <td>-0.034329</td>\n",
       "      <td>0.156680</td>\n",
       "    </tr>\n",
       "    <tr>\n",
       "      <th>SpO2</th>\n",
       "      <td>0.911929</td>\n",
       "      <td>-0.923111</td>\n",
       "      <td>-0.724080</td>\n",
       "      <td>0.091933</td>\n",
       "      <td>1.000000</td>\n",
       "      <td>-0.746666</td>\n",
       "      <td>-0.923111</td>\n",
       "    </tr>\n",
       "    <tr>\n",
       "      <th>Accelerometer</th>\n",
       "      <td>-0.941711</td>\n",
       "      <td>0.866866</td>\n",
       "      <td>0.834400</td>\n",
       "      <td>-0.034329</td>\n",
       "      <td>-0.746666</td>\n",
       "      <td>1.000000</td>\n",
       "      <td>0.866866</td>\n",
       "    </tr>\n",
       "    <tr>\n",
       "      <th>Decision</th>\n",
       "      <td>-0.946120</td>\n",
       "      <td>1.000000</td>\n",
       "      <td>0.925209</td>\n",
       "      <td>0.156680</td>\n",
       "      <td>-0.923111</td>\n",
       "      <td>0.866866</td>\n",
       "      <td>1.000000</td>\n",
       "    </tr>\n",
       "  </tbody>\n",
       "</table>\n",
       "</div>"
      ],
      "text/plain": [
       "               Distance  Pressure       HRV  Sugar level      SpO2  \\\n",
       "Distance       1.000000 -0.946120 -0.816665     0.018344  0.911929   \n",
       "Pressure      -0.946120  1.000000  0.925209     0.156680 -0.923111   \n",
       "HRV           -0.816665  0.925209  1.000000     0.309212 -0.724080   \n",
       "Sugar level    0.018344  0.156680  0.309212     1.000000  0.091933   \n",
       "SpO2           0.911929 -0.923111 -0.724080     0.091933  1.000000   \n",
       "Accelerometer -0.941711  0.866866  0.834400    -0.034329 -0.746666   \n",
       "Decision      -0.946120  1.000000  0.925209     0.156680 -0.923111   \n",
       "\n",
       "               Accelerometer  Decision  \n",
       "Distance           -0.941711 -0.946120  \n",
       "Pressure            0.866866  1.000000  \n",
       "HRV                 0.834400  0.925209  \n",
       "Sugar level        -0.034329  0.156680  \n",
       "SpO2               -0.746666 -0.923111  \n",
       "Accelerometer       1.000000  0.866866  \n",
       "Decision            0.866866  1.000000  "
      ]
     },
     "execution_count": 16,
     "metadata": {},
     "output_type": "execute_result"
    }
   ],
   "source": [
    "df.corr(method=\"pearson\")"
   ]
  },
  {
   "cell_type": "code",
   "execution_count": 8,
   "id": "88e276a0-aa5a-4c35-ac4c-14a20407b17d",
   "metadata": {},
   "outputs": [
    {
     "data": {
      "image/png": "[encoded data removed]",
      "text/plain": [
       "<Figure size 432x288 with 1 Axes>"
      ]
     },
     "metadata": {
      "needs_background": "light"
     },
     "output_type": "display_data"
    },
    {
     "name": "stdout",
     "output_type": "stream",
     "text": [
      "Green = no fall detected = 0\n",
      "Orange = person slipped/tripped/prediction of fall = 1\n",
      "Red = definite fall = 2\n"
     ]
    }
   ],
   "source": [
    "setColors = ['green', 'orange', 'red']\n",
    "colors = [setColors[x] for x in df['Decision'].to_numpy()]\n",
    "df['Decision'].to_numpy()\n",
    "plt.scatter(df['Sugar level'].to_numpy(), df['Pressure'].to_numpy(), c = colors)\n",
    "plt.title(\"Pressure as a function of Sugar level colored by Decision\")\n",
    "plt.xlabel(\"Sugar level\")\n",
    "plt.ylabel(\"Pressure\")\n",
    "plt.show()\n",
    "print(\"Green = no fall detected = 0\\nOrange = person slipped/tripped/prediction of fall = 1\\nRed = definite fall = 2\") "
   ]
  },
  {
   "cell_type": "code",
   "execution_count": 9,
   "id": "0b0b36fb-6d98-40fa-bb82-f4e08d0f81e4",
   "metadata": {},
   "outputs": [
    {
     "data": {
      "image/png": "[encoded data removed]",
      "text/plain": [
       "<Figure size 432x288 with 1 Axes>"
      ]
     },
     "metadata": {
      "needs_background": "light"
     },
     "output_type": "display_data"
    },
    {
     "name": "stdout",
     "output_type": "stream",
     "text": [
      "Green = no fall detected = 0\n",
      "Orange = person slipped/tripped/prediction of fall = 1\n",
      "Red = definite fall = 2\n"
     ]
    }
   ],
   "source": [
    "setColors = ['green', 'orange', 'red']\n",
    "colors = [setColors[x] for x in df['Decision'].to_numpy()]\n",
    "df['Decision'].to_numpy()\n",
    "plt.scatter(df['Accelerometer'].to_numpy(), df['Pressure'].to_numpy(), c = colors)\n",
    "plt.title(\"Pressure as a function of Accelerometer colored by Decision\")\n",
    "plt.xlabel(\"Accelerometer\")\n",
    "plt.ylabel(\"Pressure\")\n",
    "plt.show()\n",
    "print(\"Green = no fall detected = 0\\nOrange = person slipped/tripped/prediction of fall = 1\\nRed = definite fall = 2\") "
   ]
  },
  {
   "cell_type": "code",
   "execution_count": 1,
   "id": "dbbe8389-668a-4b24-9164-b677d84590ee",
   "metadata": {},
   "outputs": [
    {
     "ename": "NameError",
     "evalue": "name 'df' is not defined",
     "output_type": "error",
     "traceback": [
      "\u001b[1;31m---------------------------------------------------------------------------\u001b[0m",
      "\u001b[1;31mNameError\u001b[0m                                 Traceback (most recent call last)",
      "Input \u001b[1;32mIn [1]\u001b[0m, in \u001b[0;36m<cell line: 2>\u001b[1;34m()\u001b[0m\n\u001b[0;32m      1\u001b[0m setColors \u001b[38;5;241m=\u001b[39m [\u001b[38;5;124m'\u001b[39m\u001b[38;5;124mgreen\u001b[39m\u001b[38;5;124m'\u001b[39m, \u001b[38;5;124m'\u001b[39m\u001b[38;5;124morange\u001b[39m\u001b[38;5;124m'\u001b[39m, \u001b[38;5;124m'\u001b[39m\u001b[38;5;124mred\u001b[39m\u001b[38;5;124m'\u001b[39m]\n\u001b[1;32m----> 2\u001b[0m colors \u001b[38;5;241m=\u001b[39m [setColors[x] \u001b[38;5;28;01mfor\u001b[39;00m x \u001b[38;5;129;01min\u001b[39;00m \u001b[43mdf\u001b[49m[\u001b[38;5;124m'\u001b[39m\u001b[38;5;124mDecision\u001b[39m\u001b[38;5;124m'\u001b[39m]\u001b[38;5;241m.\u001b[39mto_numpy()]\n\u001b[0;32m      3\u001b[0m df[\u001b[38;5;124m'\u001b[39m\u001b[38;5;124mDecision\u001b[39m\u001b[38;5;124m'\u001b[39m]\u001b[38;5;241m.\u001b[39mto_numpy()\n\u001b[0;32m      4\u001b[0m plt\u001b[38;5;241m.\u001b[39mscatter(df[\u001b[38;5;124m'\u001b[39m\u001b[38;5;124mHRV\u001b[39m\u001b[38;5;124m'\u001b[39m]\u001b[38;5;241m.\u001b[39mto_numpy(), df[\u001b[38;5;124m'\u001b[39m\u001b[38;5;124mDecision\u001b[39m\u001b[38;5;124m'\u001b[39m]\u001b[38;5;241m.\u001b[39mto_numpy(), c \u001b[38;5;241m=\u001b[39m colors)\n",
      "\u001b[1;31mNameError\u001b[0m: name 'df' is not defined"
     ]
    }
   ],
   "source": [
    "setColors = ['green', 'orange', 'red']\n",
    "colors = [setColors[x] for x in df['Decision'].to_numpy()]\n",
    "df['Decision'].to_numpy()\n",
    "plt.scatter(df['HRV'].to_numpy(), df['Decision'].to_numpy(), c = colors)\n",
    "plt.title(\"Decision as a function of HRV colored by Decision\")\n",
    "plt.xlabel(\"HRV\")\n",
    "plt.ylabel(\"Decision\")\n",
    "plt.show()\n",
    "print(\"Green = no fall detected = 0\\nOrange = person slipped/tripped/prediction of fall = 1\\nRed = definite fall = 2\") "
   ]
  },
  {
   "cell_type": "code",
   "execution_count": 11,
   "id": "f4878bf9-cd70-4cce-9032-cc6f27dda015",
   "metadata": {},
   "outputs": [
    {
     "data": {
      "image/png": "[encoded data removed]",
      "text/plain": [
       "<Figure size 432x288 with 1 Axes>"
      ]
     },
     "metadata": {
      "needs_background": "light"
     },
     "output_type": "display_data"
    },
    {
     "name": "stdout",
     "output_type": "stream",
     "text": [
      "Green = no fall detected = 0\n",
      "Orange = person slipped/tripped/prediction of fall = 1\n",
      "Red = definite fall = 2\n"
     ]
    }
   ],
   "source": [
    "setColors = ['green', 'orange', 'red']\n",
    "colors = [setColors[x] for x in df['Decision'].to_numpy()]\n",
    "df['Decision'].to_numpy()\n",
    "plt.scatter(df['Distance'].to_numpy(), df['Decision'].to_numpy(), c = colors)\n",
    "plt.title(\"Decision as a function of Distance colored by Decision\")\n",
    "plt.xlabel(\"Distance\")\n",
    "plt.ylabel(\"Decision\")\n",
    "plt.show()\n",
    "print(\"Green = no fall detected = 0\\nOrange = person slipped/tripped/prediction of fall = 1\\nRed = definite fall = 2\") "
   ]
  },
  {
   "cell_type": "code",
   "execution_count": 12,
   "id": "99bfc9ae-7dd0-4f2d-9e23-c4e0bfa0a180",
   "metadata": {},
   "outputs": [
    {
     "data": {
      "image/png": "[encoded data removed]",
      "text/plain": [
       "<Figure size 432x288 with 1 Axes>"
      ]
     },
     "metadata": {
      "needs_background": "light"
     },
     "output_type": "display_data"
    },
    {
     "name": "stdout",
     "output_type": "stream",
     "text": [
      "Green = no fall detected = 0\n",
      "Orange = person slipped/tripped/prediction of fall = 1\n",
      "Red = definite fall = 2\n"
     ]
    }
   ],
   "source": [
    "setColors = ['green', 'orange', 'red']\n",
    "colors = [setColors[x] for x in df['Decision'].to_numpy()]\n",
    "df['Decision'].to_numpy()\n",
    "plt.scatter(df['Distance'].to_numpy(), df['Accelerometer'].to_numpy(), c = colors)\n",
    "plt.title(\"Accelerometer as a function of Distance colored by Decision\")\n",
    "plt.xlabel(\"Distance\")\n",
    "plt.ylabel(\"Accelerometer\")\n",
    "plt.show()\n",
    "print(\"Green = no fall detected = 0\\nOrange = person slipped/tripped/prediction of fall = 1\\nRed = definite fall = 2\") "
   ]
  },
  {
   "cell_type": "code",
   "execution_count": null,
   "id": "9966b8ee-2482-46b2-8a5e-e4b8b36e685d",
   "metadata": {},
   "outputs": [],
   "source": []
  }
 ],
 "metadata": {
  "kernelspec": {
   "display_name": "Python 3 (ipykernel)",
   "language": "python",
   "name": "python3"
  },
  "language_info": {
   "codemirror_mode": {
    "name": "ipython",
    "version": 3
   },
   "file_extension": ".py",
   "mimetype": "text/x-python",
   "name": "python",
   "nbconvert_exporter": "python",
   "pygments_lexer": "ipython3",
   "version": "3.9.12"
  }
 },
 "nbformat": 4,
 "nbformat_minor": 5
}
