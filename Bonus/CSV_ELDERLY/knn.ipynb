{
 "cells": [
  {
   "cell_type": "code",
   "execution_count": 2,
   "id": "98e89726-50c5-460a-bbe6-cb89c44fcaca",
   "metadata": {},
   "outputs": [],
   "source": [
    "import pandas as pd\n",
    "import matplotlib.pyplot as plt\n",
    "import numpy as np"
   ]
  },
  {
   "cell_type": "code",
   "execution_count": 3,
   "id": "4f657efa-ae63-4d3b-a47c-bf01e260d7f0",
   "metadata": {},
   "outputs": [
    {
     "data": {
      "text/html": [
       "<div>\n",
       "<style scoped>\n",
       "    .dataframe tbody tr th:only-of-type {\n",
       "        vertical-align: middle;\n",
       "    }\n",
       "\n",
       "    .dataframe tbody tr th {\n",
       "        vertical-align: top;\n",
       "    }\n",
       "\n",
       "    .dataframe thead th {\n",
       "        text-align: right;\n",
       "    }\n",
       "</style>\n",
       "<table border=\"1\" class=\"dataframe\">\n",
       "  <thead>\n",
       "    <tr style=\"text-align: right;\">\n",
       "      <th></th>\n",
       "      <th>Distance</th>\n",
       "      <th>Pressure</th>\n",
       "      <th>HRV</th>\n",
       "      <th>Sugar level</th>\n",
       "      <th>SpO2</th>\n",
       "      <th>Accelerometer</th>\n",
       "      <th>Decision</th>\n",
       "    </tr>\n",
       "  </thead>\n",
       "  <tbody>\n",
       "    <tr>\n",
       "      <th>0</th>\n",
       "      <td>25.540</td>\n",
       "      <td>1.0</td>\n",
       "      <td>101.396</td>\n",
       "      <td>61.080</td>\n",
       "      <td>87.770</td>\n",
       "      <td>1.0</td>\n",
       "      <td>1</td>\n",
       "    </tr>\n",
       "    <tr>\n",
       "      <th>1</th>\n",
       "      <td>2.595</td>\n",
       "      <td>2.0</td>\n",
       "      <td>110.190</td>\n",
       "      <td>20.207</td>\n",
       "      <td>65.190</td>\n",
       "      <td>1.0</td>\n",
       "      <td>2</td>\n",
       "    </tr>\n",
       "    <tr>\n",
       "      <th>2</th>\n",
       "      <td>68.067</td>\n",
       "      <td>0.0</td>\n",
       "      <td>87.412</td>\n",
       "      <td>79.345</td>\n",
       "      <td>99.345</td>\n",
       "      <td>0.0</td>\n",
       "      <td>0</td>\n",
       "    </tr>\n",
       "    <tr>\n",
       "      <th>3</th>\n",
       "      <td>13.090</td>\n",
       "      <td>1.0</td>\n",
       "      <td>92.266</td>\n",
       "      <td>36.180</td>\n",
       "      <td>81.545</td>\n",
       "      <td>1.0</td>\n",
       "      <td>1</td>\n",
       "    </tr>\n",
       "    <tr>\n",
       "      <th>4</th>\n",
       "      <td>69.430</td>\n",
       "      <td>0.0</td>\n",
       "      <td>89.480</td>\n",
       "      <td>80.000</td>\n",
       "      <td>99.990</td>\n",
       "      <td>0.0</td>\n",
       "      <td>0</td>\n",
       "    </tr>\n",
       "    <tr>\n",
       "      <th>...</th>\n",
       "      <td>...</td>\n",
       "      <td>...</td>\n",
       "      <td>...</td>\n",
       "      <td>...</td>\n",
       "      <td>...</td>\n",
       "      <td>...</td>\n",
       "      <td>...</td>\n",
       "    </tr>\n",
       "    <tr>\n",
       "      <th>2034</th>\n",
       "      <td>5.655</td>\n",
       "      <td>2.0</td>\n",
       "      <td>116.310</td>\n",
       "      <td>162.242</td>\n",
       "      <td>71.310</td>\n",
       "      <td>1.0</td>\n",
       "      <td>2</td>\n",
       "    </tr>\n",
       "    <tr>\n",
       "      <th>2035</th>\n",
       "      <td>9.660</td>\n",
       "      <td>2.0</td>\n",
       "      <td>124.320</td>\n",
       "      <td>177.995</td>\n",
       "      <td>79.320</td>\n",
       "      <td>1.0</td>\n",
       "      <td>2</td>\n",
       "    </tr>\n",
       "    <tr>\n",
       "      <th>2036</th>\n",
       "      <td>15.220</td>\n",
       "      <td>1.0</td>\n",
       "      <td>93.828</td>\n",
       "      <td>40.440</td>\n",
       "      <td>82.610</td>\n",
       "      <td>1.0</td>\n",
       "      <td>1</td>\n",
       "    </tr>\n",
       "    <tr>\n",
       "      <th>2037</th>\n",
       "      <td>9.120</td>\n",
       "      <td>2.0</td>\n",
       "      <td>123.240</td>\n",
       "      <td>175.871</td>\n",
       "      <td>78.240</td>\n",
       "      <td>1.0</td>\n",
       "      <td>2</td>\n",
       "    </tr>\n",
       "    <tr>\n",
       "      <th>2038</th>\n",
       "      <td>62.441</td>\n",
       "      <td>0.0</td>\n",
       "      <td>78.876</td>\n",
       "      <td>76.435</td>\n",
       "      <td>96.435</td>\n",
       "      <td>0.0</td>\n",
       "      <td>0</td>\n",
       "    </tr>\n",
       "  </tbody>\n",
       "</table>\n",
       "<p>2039 rows × 7 columns</p>\n",
       "</div>"
      ],
      "text/plain": [
       "      Distance  Pressure      HRV  Sugar level    SpO2  Accelerometer  \\\n",
       "0       25.540       1.0  101.396       61.080  87.770            1.0   \n",
       "1        2.595       2.0  110.190       20.207  65.190            1.0   \n",
       "2       68.067       0.0   87.412       79.345  99.345            0.0   \n",
       "3       13.090       1.0   92.266       36.180  81.545            1.0   \n",
       "4       69.430       0.0   89.480       80.000  99.990            0.0   \n",
       "...        ...       ...      ...          ...     ...            ...   \n",
       "2034     5.655       2.0  116.310      162.242  71.310            1.0   \n",
       "2035     9.660       2.0  124.320      177.995  79.320            1.0   \n",
       "2036    15.220       1.0   93.828       40.440  82.610            1.0   \n",
       "2037     9.120       2.0  123.240      175.871  78.240            1.0   \n",
       "2038    62.441       0.0   78.876       76.435  96.435            0.0   \n",
       "\n",
       "      Decision  \n",
       "0            1  \n",
       "1            2  \n",
       "2            0  \n",
       "3            1  \n",
       "4            0  \n",
       "...        ...  \n",
       "2034         2  \n",
       "2035         2  \n",
       "2036         1  \n",
       "2037         2  \n",
       "2038         0  \n",
       "\n",
       "[2039 rows x 7 columns]"
      ]
     },
     "execution_count": 3,
     "metadata": {},
     "output_type": "execute_result"
    }
   ],
   "source": [
    "df = pd.read_csv(\"cStick.csv\")\n",
    "df"
   ]
  },
  {
   "cell_type": "code",
   "execution_count": 4,
   "id": "1e7b913e-4054-4b59-9793-e0c10c412f11",
   "metadata": {},
   "outputs": [
    {
     "data": {
      "text/plain": [
       "Distance         0\n",
       "Pressure         0\n",
       "HRV              0\n",
       "Sugar level      0\n",
       "SpO2             0\n",
       "Accelerometer    0\n",
       "Decision         0\n",
       "dtype: int64"
      ]
     },
     "execution_count": 4,
     "metadata": {},
     "output_type": "execute_result"
    }
   ],
   "source": [
    "df.isnull().sum()"
   ]
  },
  {
   "cell_type": "code",
   "execution_count": 5,
   "id": "8bca553b-9054-482a-a0fa-331a0385f473",
   "metadata": {},
   "outputs": [
    {
     "data": {
      "text/plain": [
       "<AxesSubplot:>"
      ]
     },
     "execution_count": 5,
     "metadata": {},
     "output_type": "execute_result"
    },
    {
     "data": {
      "image/png": "[encoded data removed]",
      "text/plain": [
       "<Figure size 432x288 with 1 Axes>"
      ]
     },
     "metadata": {
      "needs_background": "light"
     },
     "output_type": "display_data"
    }
   ],
   "source": [
    "df.boxplot()"
   ]
  },
  {
   "cell_type": "code",
   "execution_count": null,
   "id": "3b77f362-583d-4252-84a5-995585e6b091",
   "metadata": {},
   "outputs": [],
   "source": []
  },
  {
   "cell_type": "code",
   "execution_count": null,
   "id": "688eb0ab-3832-4bf6-8271-584acf9b7388",
   "metadata": {},
   "outputs": [],
   "source": []
  },
  {
   "cell_type": "code",
   "execution_count": 3,
   "id": "0991e72d-ac38-4f67-8150-c8f7549d70b6",
   "metadata": {},
   "outputs": [
    {
     "data": {
      "text/plain": [
       "0    690\n",
       "1    682\n",
       "2    667\n",
       "Name: Decision, dtype: int64"
      ]
     },
     "execution_count": 3,
     "metadata": {},
     "output_type": "execute_result"
    }
   ],
   "source": [
    "df['Decision'].value_counts()"
   ]
  },
  {
   "cell_type": "code",
   "execution_count": 4,
   "id": "85925539-fb57-4ec0-a6f0-e96c31558f1d",
   "metadata": {},
   "outputs": [],
   "source": [
    "X = df.iloc[:, :-1].values\n",
    "y = df.iloc[:, 6].values"
   ]
  },
  {
   "cell_type": "code",
   "execution_count": 5,
   "id": "e72ce0aa-523d-4110-b21b-1460a75c5b38",
   "metadata": {},
   "outputs": [],
   "source": [
    "from sklearn.model_selection import train_test_split\n",
    "X_train, X_test, y_train, y_test = train_test_split(X, y, test_size=0.20)"
   ]
  },
  {
   "cell_type": "code",
   "execution_count": 6,
   "id": "ec27729d-a426-42e4-a8d1-efa0292dc602",
   "metadata": {},
   "outputs": [],
   "source": [
    "from sklearn.preprocessing import StandardScaler\n",
    "scaler = StandardScaler()\n",
    "scaler.fit(X_train)\n",
    "\n",
    "X_train = scaler.transform(X_train)\n",
    "X_test = scaler.transform(X_test)"
   ]
  },
  {
   "cell_type": "code",
   "execution_count": 7,
   "id": "7c554f4e-2563-4503-8ce7-1056f9ad3198",
   "metadata": {},
   "outputs": [
    {
     "data": {
      "text/plain": [
       "KNeighborsClassifier(n_neighbors=40)"
      ]
     },
     "execution_count": 7,
     "metadata": {},
     "output_type": "execute_result"
    }
   ],
   "source": [
    "from sklearn.neighbors import KNeighborsClassifier\n",
    "classifier = KNeighborsClassifier(n_neighbors=40)\n",
    "classifier.fit(X_train, y_train)"
   ]
  },
  {
   "cell_type": "code",
   "execution_count": 8,
   "id": "531892a6-b563-4723-bc92-61462aebe3a2",
   "metadata": {},
   "outputs": [],
   "source": [
    "y_pred = classifier.predict(X_test)"
   ]
  },
  {
   "cell_type": "code",
   "execution_count": 9,
   "id": "31a7f8c3-ff18-42fa-909d-6a22c27f83a8",
   "metadata": {},
   "outputs": [
    {
     "name": "stdout",
     "output_type": "stream",
     "text": [
      "[[137   0   0]\n",
      " [  0 129   0]\n",
      " [  0   0 142]]\n",
      "              precision    recall  f1-score   support\n",
      "\n",
      "           0       1.00      1.00      1.00       137\n",
      "           1       1.00      1.00      1.00       129\n",
      "           2       1.00      1.00      1.00       142\n",
      "\n",
      "    accuracy                           1.00       408\n",
      "   macro avg       1.00      1.00      1.00       408\n",
      "weighted avg       1.00      1.00      1.00       408\n",
      "\n"
     ]
    }
   ],
   "source": [
    "from sklearn.metrics import classification_report, confusion_matrix\n",
    "print(confusion_matrix(y_test, y_pred))\n",
    "print(classification_report(y_test, y_pred))"
   ]
  },
  {
   "cell_type": "code",
   "execution_count": 10,
   "id": "1c5777a8-4892-4784-a6d5-caaef5a2c2bc",
   "metadata": {},
   "outputs": [],
   "source": [
    "error = []\n",
    "\n",
    "# Calculating error for K values between 1 and 40\n",
    "for i in range(1, 40):\n",
    "    knn = KNeighborsClassifier(n_neighbors=i)\n",
    "    knn.fit(X_train, y_train)\n",
    "    pred_i = knn.predict(X_test)\n",
    "    error.append(np.mean(pred_i != y_test))"
   ]
  },
  {
   "cell_type": "code",
   "execution_count": 11,
   "id": "5caf7475-d585-41c7-a8f1-82fa489b515d",
   "metadata": {},
   "outputs": [
    {
     "data": {
      "text/plain": [
       "Text(0, 0.5, 'Mean Error')"
      ]
     },
     "execution_count": 11,
     "metadata": {},
     "output_type": "execute_result"
    },
    {
     "data": {
      "image/png": "[encoded data removed]",
      "text/plain": [
       "<Figure size 864x432 with 1 Axes>"
      ]
     },
     "metadata": {
      "needs_background": "light"
     },
     "output_type": "display_data"
    }
   ],
   "source": [
    "plt.figure(figsize=(12, 6))\n",
    "plt.plot(range(1, 40), error, color='red', linestyle='dashed', marker='o',\n",
    "         markerfacecolor='blue', markersize=10)\n",
    "plt.title('Error Rate K Value')\n",
    "plt.xlabel('K Value')\n",
    "plt.ylabel('Mean Error')"
   ]
  },
  {
   "cell_type": "code",
   "execution_count": null,
   "id": "70bcda30-5651-4b72-9e96-dce8d293ac0c",
   "metadata": {},
   "outputs": [],
   "source": []
  }
 ],
 "metadata": {
  "kernelspec": {
   "display_name": "Python 3 (ipykernel)",
   "language": "python",
   "name": "python3"
  },
  "language_info": {
   "codemirror_mode": {
    "name": "ipython",
    "version": 3
   },
   "file_extension": ".py",
   "mimetype": "text/x-python",
   "name": "python",
   "nbconvert_exporter": "python",
   "pygments_lexer": "ipython3",
   "version": "3.9.12"
  }
 },
 "nbformat": 4,
 "nbformat_minor": 5
}
